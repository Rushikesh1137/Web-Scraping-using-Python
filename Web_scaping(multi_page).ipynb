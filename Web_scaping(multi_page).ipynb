
# Web scrapping using Python and BeautifulSoup

##start

import requests
from bs4 import BeautifulSoup
import csv
import time
import random
#This program scrap data from booking.com for multiple pages

# Library Installed
1. beautifulsoup4
2. requests


# Function to scrape multiple pages
def web_scraper_multi_page(base_url, file_name, max_pages=5):
    print("Starting Multi-Page Scraping...\n")

    headers = {
        'User-Agent': 'Mozilla/5.0 (Windows NT 10.0; Win64; x64) AppleWebKit/537.36 (KHTML, like Gecko) Chrome/119.0.0.0 Safari/537.36'
    }

    # Open CSV file to write data
    with open(f'{file_name}.csv', 'w', encoding='utf-8', newline='') as file_csv:
        writer = csv.writer(file_csv)

        # Write CSV headers
        writer.writerow(['Hotel_Name', 'Hotel_Type', 'Locality', 'Price', 'Accomodation', 'Rating', 'Featured', 'Score', 'Review', 'Link'])

        for page in range(max_pages):  # Loop for multiple pages
            offset = page * 25  # hotels per page initial loading
            page_url = f"{base_url}&offset={offset}"

            print(f"Scraping Page {page + 1} → {page_url}")

            response = requests.get(page_url, headers=headers)
            time.sleep(random.randint(2, 5))  # Add delay to avoid blocking

            if response.status_code != 200:
                print(f"Failed to connect! Status Code: {response.status_code}")
                break  # Stop scraping if error occurs

            soup = BeautifulSoup(response.text, 'lxml')

            # Find all hotel containers
            hotel_divs = soup.find_all('div', role="listitem")

            if not hotel_divs:
                print("No more hotels found. Stopping pagination.")
                break  # Stop if no hotels are found (end of pagination)

            for hotel in hotel_divs:
                try:
                    hotel_name = hotel.find('div', class_="f6431b446c a15b38c233").text.strip()
                except:
                    hotel_name = "NA"

                try:
                    stars = hotel.find('div', class_='b3f3c831be')['aria-label'].split()[0]
                except:
                    stars = "NA"

                try:
                    location = hotel.find('span', class_="aee5343fdb def9bc142a").text.strip()
                except:
                    location = "NA"

                try:
                    price = hotel.find('span', class_="f6431b446c fbfd7c1165 e84eb96b1f").text.replace('₹ ', '').strip()
                except:
                    price = "NA"

                try:
                    avail = hotel.find('h4', class_="abf093bdfe e8f7c070a7").text.strip()
                except:
                    avail = "NA"

                try:
                    rating = hotel.find('div', class_="a3b8729ab1 e6208ee469 cb2cbb3ccb").text.strip()
                except:
                    rating = "NA"

                try:
                    feature = hotel.find('span', class_="b30f8eb2d6").text.strip()
                except:
                    feature = "NA"

                try:
                    score = hotel.find('div', class_="a3b8729ab1 d86cee9b25").text.strip()
                except:
                    score = "NA"

                try:
                    review = hotel.find('div', class_="abf093bdfe f45d8e4c32 d935416c47").text.strip()
                except:
                    review = "NA"

                try:
                    link = hotel.find('a', href=True)['href']
                    link = f"https://www.booking.com{link}" if link else "NA"
                except:
                    link = "NA"

                # Save data to CSV
                writer.writerow([hotel_name,stars,location,price,avail,rating,feature,score, review, link])

            print(f"✅ Page {page + 1} Scraped Successfully!\n")

    print("🎉 Web Scraping Completed!")


# Run the scraper for multiple pages
if __name__ == '__main__':
    url = input("Enter Booking.com Search URL: ")
    file_name = input("Enter CSV File Name (without extension): ")
    pages = int(input("Enter Number of Pages to Scrape: "))

    web_scraper_multi_page(url, file_name, max_pages=pages)

# we are Dynamically reading the scrapped CSV file
import pandas as pd
import numpy as np


def load_csv(file_name):
    try:
        df = pd.read_csv(f'{file_name}.csv')
        print("CSV loaded successfully!")
        return df
    except FileNotFoundError:
        print(f"The file '{file_name}.csv' was not found!")
        return None

# Example usage
file_name = input("Enter the name of the CSV file (without extension): ")
df = load_csv(file_name)

# Check if the DataFrame is loaded and inspect the first few rows
# if df is not None:
#     print(df.head())

**Data** **Wrangling**
# Reset the index to start from 0, and then add 1 to make it start from 1
df = df.reset_index(drop=True)
df.index = df.index + 1

df.head()

df = df.rename(columns={'Review': 'No of Reviews'})
df.head()
df['Price'] = df['Price'].str.replace('US$', '').astype(int)

# Now convert the Price to INR
df['Price'] = df['Price'] * 82




df.head()
# First, extract the numeric part of 'No of Reviews' column
df['No of Reviews'] = df['No of Reviews'].str.extract('(\d+)')

# Fill NaN values with 0 (or another value of your choice)
df['No of Reviews'].fillna(0, inplace=True)

# Now convert the column to integers
df['No of Reviews'] = df['No of Reviews'].astype(int)

# 'No of Reviews' column converting to numeric
#df['No of Reviews'] = df['No of Reviews'].str.extract('(\d+)').astype(int)

# Extracting the numeric score from the 'Score' column
df['Score'] = df['Score'].str.extract(r'(\d+\.\d+)').astype(float)

df[['Score','No of Reviews']].head()


**Making the link column as a hyperlink**

Create hyperlinks in a new column using HTML anchor tags

df['Link'] = df['Link'].apply(lambda x: f'<a href="{x}"target="_blank">{x}</a>')


**from IPython.display import display, HTML**
display(HTML(df.to_html(escape=False)))  # escape=False to render HTML links

#**Making the link column as a hyperlink**

#Create hyperlinks in a new column using HTML anchor tags

df['Link'] = df['Link'].apply(lambda x: f'<a href="{x}" target="_blank">{x}</a>')


from IPython.display import display, HTML
display(HTML(df.to_html(escape=False)))  # escape=False to render HTML links

#df['Featured'].unique()
df['Featured'].fillna('No', inplace=True)


#setting the score 0 to the hotels which are not scored
df['Score'] = df['Score'].fillna(0)

#Not rated Hotel -->unrated
df['Rating'] = df['Rating'].fillna('Unrated')

#hotels which are not star
df['Hotel_Type'] = df['Hotel_Type'].fillna(1)
# df['Hotel_Type'].unique()
null_count = df.isnull().sum() #counting the null values column wise
null_count
df[df.isna().any(axis=1)]
df.info()

*Till here we have clean the data , since there is no NULL entries in any row or column.*
# Save the cleaned DataFrame to a CSV file
df.to_csv('cleaned_data.csv', index=False)

**Hotel Data Analysis**


# Step 1: Load Required Libraries
import pandas as pd
import matplotlib.pyplot as plt
import seaborn as sns

# Step 2: Load Dataset
from google.colab import files
uploaded = files.upload()

# Read CSV File (Modify filename accordingly)
New_Delhi = list(uploaded.keys())[0]
df = pd.read_csv(New_Delhi)

# Step 3: Initial Data Inspection
print("\nDataset Info:")
df.info()
print("\nFirst 5 Rows:")
df.head()

## Convert 'Hotel_Type' to categorical
df["Hotel_Type"] = df["Hotel_Type"].astype("category")

## Convert 'Rating' to ordered category
rating_order = ["Poor", "Fair", "Good", "Very good", "Fabulous", "Exceptional"]
df["Rating"] = pd.Categorical(df["Rating"], categories=rating_order, ordered=True)

## Convert 'Featured' to binary
df["Featured"] = df["Featured"].apply(lambda x: 1 if x != "No" else 0)

## Drop 'Link' column if not needed
df.drop(columns=["Link"], inplace=True, errors='ignore')

## **Exploratory Data Analysis (EDA)**
sns.set_style("whitegrid")

#Price Distribution
plt.figure(figsize=(10, 5))
sns.histplot(df["Price"], bins=30, kde=True, color="skyblue")
plt.title("Hotel Price Distribution")
plt.xlabel("Price (per night)")
plt.ylabel("Count of Hotels")
plt.show()

# Observations from Price Distribution
*Most hotels are priced under ₹5000 per night*.

*A few hotels have significantly higher prices, possibly luxury or premium hotels.*

*There's a peak at the lower price range, indicating budget hotels dominate*.


#Hotel Type vs. Price
plt.figure(figsize=(10, 5))
sns.boxplot(x="Hotel_Type", y="Price", data=df, palette="coolwarm")
plt.title("Hotel Type vs. Price")
plt.xlabel("Hotel Type (Star Rating)")
plt.ylabel("Price (per night)")
plt.show()

# Observations: Hotel Type vs. Price

*Higher-star hotels generally charge more, but there's price overlap among 3-star, 4-star, and even some 5-star hotels.*

*5-star hotels show high price variation, meaning some luxury hotels charge a premium.*

*Budget-friendly hotels (3-star and below) have a more compact price range.*
#Number of Hotels by Locality
plt.figure(figsize=(12, 6))
sns.countplot(y=df["Locality"], order=df["Locality"].value_counts().index, palette="viridis")
plt.title("Number of Hotels by Locality")
plt.xlabel("Count of Hotels")
plt.ylabel("Locality")
plt.show()

#Average Price by Locality
plt.figure(figsize=(12, 6))
avg_price_by_locality = df.groupby("Locality")["Price"].mean().sort_values()
sns.barplot(y=avg_price_by_locality.index, x=avg_price_by_locality.values, palette="magma")
plt.title("Average Hotel Price by Locality")
plt.xlabel("Average Price (per night)")
plt.ylabel("Locality")
plt.show()
#Rating Score vs. Number of Reviews
plt.figure(figsize=(10, 5))
sns.scatterplot(x="Score", y="No of Reviews", data=df, hue="Rating", palette="viridis", alpha=0.7)
plt.title("Hotel Rating Score vs. Number of Reviews")
plt.xlabel("Rating Score")
plt.ylabel("Number of Reviews")
plt.show()

#Featured Hotels Analysis
plt.figure(figsize=(8, 5))
sns.boxplot(x="Featured", y="Price", data=df, hue="Featured", palette="pastel")
plt.title("Price Distribution for Featured vs Non-Featured Hotels")
plt.xlabel("Featured on Booking.com (Yes or No)")
plt.ylabel("Price")
plt.show()


plt.figure(figsize=(8, 5))
sns.boxplot(x="Featured", y="No of Reviews", data=df,hue='Featured', palette="pastel")
plt.title("Do Featured Hotels Get More Reviews?")
plt.xlabel("Featured on Booking.com (1 = Yes, 0 = No)")
plt.ylabel("Number of Reviews")
plt.show()

